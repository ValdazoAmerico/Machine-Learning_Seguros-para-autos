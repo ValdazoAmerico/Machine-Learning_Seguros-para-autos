{
  "nbformat": 4,
  "nbformat_minor": 0,
  "metadata": {
    "colab": {
      "name": "Car insurance sales supervised machine learning.ipynb",
      "provenance": [],
      "collapsed_sections": [],
      "authorship_tag": "ABX9TyNz6nZ8b+3PffDjn3913RDr",
      "include_colab_link": true
    },
    "kernelspec": {
      "name": "python3",
      "display_name": "Python 3"
    },
    "language_info": {
      "name": "python"
    }
  },
  "cells": [
    {
      "cell_type": "markdown",
      "metadata": {
        "id": "view-in-github",
        "colab_type": "text"
      },
      "source": [
        "<a href=\"https://colab.research.google.com/github/ValdazoAmerico/Machine-Learning_Seguros-para-autos/blob/main/Car_insurance_sales_supervised_machine_learning.ipynb\" target=\"_parent\"><img src=\"https://colab.research.google.com/assets/colab-badge.svg\" alt=\"Open In Colab\"/></a>"
      ]
    },
    {
      "cell_type": "code",
      "metadata": {
        "colab": {
          "base_uri": "https://localhost:8080/"
        },
        "id": "vX6sG_OzHkvz",
        "outputId": "249a2dca-bb7c-4fe2-ca82-306f8851fd9b"
      },
      "source": [
        "import pandas as pd\n",
        "import numpy as np\n",
        "\n",
        "import matplotlib.pyplot as plt\n",
        "import seaborn as sns\n",
        "\n",
        "from imblearn.over_sampling import SMOTE\n",
        "from sklearn.preprocessing import LabelEncoder\n",
        "from sklearn.linear_model import LogisticRegression\n",
        "from sklearn.tree import DecisionTreeClassifier\n",
        "from sklearn.utils import resample\n",
        "from sklearn.model_selection import train_test_split, cross_val_score, GridSearchCV\n",
        "from sklearn import neighbors\n",
        "from sklearn.metrics import confusion_matrix, precision_score, recall_score"
      ],
      "execution_count": null,
      "outputs": [
        {
          "output_type": "stream",
          "text": [
            "/usr/local/lib/python3.7/dist-packages/sklearn/externals/six.py:31: FutureWarning: The module is deprecated in version 0.21 and will be removed in version 0.23 since we've dropped support for Python 2.7. Please rely on the official version of six (https://pypi.org/project/six/).\n",
            "  \"(https://pypi.org/project/six/).\", FutureWarning)\n",
            "/usr/local/lib/python3.7/dist-packages/sklearn/utils/deprecation.py:144: FutureWarning: The sklearn.neighbors.base module is  deprecated in version 0.22 and will be removed in version 0.24. The corresponding classes / functions should instead be imported from sklearn.neighbors. Anything that cannot be imported from sklearn.neighbors is now part of the private API.\n",
            "  warnings.warn(message, FutureWarning)\n"
          ],
          "name": "stderr"
        }
      ]
    },
    {
      "cell_type": "code",
      "metadata": {
        "colab": {
          "base_uri": "https://localhost:8080/",
          "height": 360
        },
        "id": "uwa4uscZIBIU",
        "outputId": "c52d4ff7-fada-4123-db06-330417a03989"
      },
      "source": [
        "data = pd.read_csv('a.csv')\n",
        "data.head()"
      ],
      "execution_count": null,
      "outputs": [
        {
          "output_type": "execute_result",
          "data": {
            "text/html": [
              "<div>\n",
              "<style scoped>\n",
              "    .dataframe tbody tr th:only-of-type {\n",
              "        vertical-align: middle;\n",
              "    }\n",
              "\n",
              "    .dataframe tbody tr th {\n",
              "        vertical-align: top;\n",
              "    }\n",
              "\n",
              "    .dataframe thead th {\n",
              "        text-align: right;\n",
              "    }\n",
              "</style>\n",
              "<table border=\"1\" class=\"dataframe\">\n",
              "  <thead>\n",
              "    <tr style=\"text-align: right;\">\n",
              "      <th></th>\n",
              "      <th>Customer</th>\n",
              "      <th>State</th>\n",
              "      <th>Customer Lifetime Value</th>\n",
              "      <th>Response</th>\n",
              "      <th>Coverage</th>\n",
              "      <th>Education</th>\n",
              "      <th>Effective To Date</th>\n",
              "      <th>EmploymentStatus</th>\n",
              "      <th>Gender</th>\n",
              "      <th>Income</th>\n",
              "      <th>Location Code</th>\n",
              "      <th>Marital Status</th>\n",
              "      <th>Monthly Premium Auto</th>\n",
              "      <th>Months Since Last Claim</th>\n",
              "      <th>Months Since Policy Inception</th>\n",
              "      <th>Number of Open Complaints</th>\n",
              "      <th>Number of Policies</th>\n",
              "      <th>Policy Type</th>\n",
              "      <th>Policy</th>\n",
              "      <th>Renew Offer Type</th>\n",
              "      <th>Sales Channel</th>\n",
              "      <th>Total Claim Amount</th>\n",
              "      <th>Vehicle Class</th>\n",
              "      <th>Vehicle Size</th>\n",
              "    </tr>\n",
              "  </thead>\n",
              "  <tbody>\n",
              "    <tr>\n",
              "      <th>0</th>\n",
              "      <td>BU79786</td>\n",
              "      <td>Washington</td>\n",
              "      <td>2763.519279</td>\n",
              "      <td>No</td>\n",
              "      <td>Basic</td>\n",
              "      <td>Bachelor</td>\n",
              "      <td>2/24/11</td>\n",
              "      <td>Employed</td>\n",
              "      <td>F</td>\n",
              "      <td>56274</td>\n",
              "      <td>Suburban</td>\n",
              "      <td>Married</td>\n",
              "      <td>69</td>\n",
              "      <td>32</td>\n",
              "      <td>5</td>\n",
              "      <td>0</td>\n",
              "      <td>1</td>\n",
              "      <td>Corporate Auto</td>\n",
              "      <td>Corporate L3</td>\n",
              "      <td>Offer1</td>\n",
              "      <td>Agent</td>\n",
              "      <td>384.811147</td>\n",
              "      <td>Two-Door Car</td>\n",
              "      <td>Medsize</td>\n",
              "    </tr>\n",
              "    <tr>\n",
              "      <th>1</th>\n",
              "      <td>QZ44356</td>\n",
              "      <td>Arizona</td>\n",
              "      <td>6979.535903</td>\n",
              "      <td>No</td>\n",
              "      <td>Extended</td>\n",
              "      <td>Bachelor</td>\n",
              "      <td>1/31/11</td>\n",
              "      <td>Unemployed</td>\n",
              "      <td>F</td>\n",
              "      <td>0</td>\n",
              "      <td>Suburban</td>\n",
              "      <td>Single</td>\n",
              "      <td>94</td>\n",
              "      <td>13</td>\n",
              "      <td>42</td>\n",
              "      <td>0</td>\n",
              "      <td>8</td>\n",
              "      <td>Personal Auto</td>\n",
              "      <td>Personal L3</td>\n",
              "      <td>Offer3</td>\n",
              "      <td>Agent</td>\n",
              "      <td>1131.464935</td>\n",
              "      <td>Four-Door Car</td>\n",
              "      <td>Medsize</td>\n",
              "    </tr>\n",
              "    <tr>\n",
              "      <th>2</th>\n",
              "      <td>AI49188</td>\n",
              "      <td>Nevada</td>\n",
              "      <td>12887.431650</td>\n",
              "      <td>No</td>\n",
              "      <td>Premium</td>\n",
              "      <td>Bachelor</td>\n",
              "      <td>2/19/11</td>\n",
              "      <td>Employed</td>\n",
              "      <td>F</td>\n",
              "      <td>48767</td>\n",
              "      <td>Suburban</td>\n",
              "      <td>Married</td>\n",
              "      <td>108</td>\n",
              "      <td>18</td>\n",
              "      <td>38</td>\n",
              "      <td>0</td>\n",
              "      <td>2</td>\n",
              "      <td>Personal Auto</td>\n",
              "      <td>Personal L3</td>\n",
              "      <td>Offer1</td>\n",
              "      <td>Agent</td>\n",
              "      <td>566.472247</td>\n",
              "      <td>Two-Door Car</td>\n",
              "      <td>Medsize</td>\n",
              "    </tr>\n",
              "    <tr>\n",
              "      <th>3</th>\n",
              "      <td>WW63253</td>\n",
              "      <td>California</td>\n",
              "      <td>7645.861827</td>\n",
              "      <td>No</td>\n",
              "      <td>Basic</td>\n",
              "      <td>Bachelor</td>\n",
              "      <td>1/20/11</td>\n",
              "      <td>Unemployed</td>\n",
              "      <td>M</td>\n",
              "      <td>0</td>\n",
              "      <td>Suburban</td>\n",
              "      <td>Married</td>\n",
              "      <td>106</td>\n",
              "      <td>18</td>\n",
              "      <td>65</td>\n",
              "      <td>0</td>\n",
              "      <td>7</td>\n",
              "      <td>Corporate Auto</td>\n",
              "      <td>Corporate L2</td>\n",
              "      <td>Offer1</td>\n",
              "      <td>Call Center</td>\n",
              "      <td>529.881344</td>\n",
              "      <td>SUV</td>\n",
              "      <td>Medsize</td>\n",
              "    </tr>\n",
              "    <tr>\n",
              "      <th>4</th>\n",
              "      <td>HB64268</td>\n",
              "      <td>Washington</td>\n",
              "      <td>2813.692575</td>\n",
              "      <td>No</td>\n",
              "      <td>Basic</td>\n",
              "      <td>Bachelor</td>\n",
              "      <td>2/3/11</td>\n",
              "      <td>Employed</td>\n",
              "      <td>M</td>\n",
              "      <td>43836</td>\n",
              "      <td>Rural</td>\n",
              "      <td>Single</td>\n",
              "      <td>73</td>\n",
              "      <td>12</td>\n",
              "      <td>44</td>\n",
              "      <td>0</td>\n",
              "      <td>1</td>\n",
              "      <td>Personal Auto</td>\n",
              "      <td>Personal L1</td>\n",
              "      <td>Offer1</td>\n",
              "      <td>Agent</td>\n",
              "      <td>138.130879</td>\n",
              "      <td>Four-Door Car</td>\n",
              "      <td>Medsize</td>\n",
              "    </tr>\n",
              "  </tbody>\n",
              "</table>\n",
              "</div>"
            ],
            "text/plain": [
              "  Customer       State  ...  Vehicle Class Vehicle Size\n",
              "0  BU79786  Washington  ...   Two-Door Car      Medsize\n",
              "1  QZ44356     Arizona  ...  Four-Door Car      Medsize\n",
              "2  AI49188      Nevada  ...   Two-Door Car      Medsize\n",
              "3  WW63253  California  ...            SUV      Medsize\n",
              "4  HB64268  Washington  ...  Four-Door Car      Medsize\n",
              "\n",
              "[5 rows x 24 columns]"
            ]
          },
          "metadata": {
            "tags": []
          },
          "execution_count": 3
        }
      ]
    },
    {
      "cell_type": "code",
      "metadata": {
        "colab": {
          "base_uri": "https://localhost:8080/"
        },
        "id": "SgphFSypIyN2",
        "outputId": "6733d7b1-194c-41c9-a1dc-9135863d3594"
      },
      "source": [
        "data.columns"
      ],
      "execution_count": null,
      "outputs": [
        {
          "output_type": "execute_result",
          "data": {
            "text/plain": [
              "Index(['Customer', 'State', 'Customer Lifetime Value', 'Response', 'Coverage',\n",
              "       'Education', 'Effective To Date', 'EmploymentStatus', 'Gender',\n",
              "       'Income', 'Location Code', 'Marital Status', 'Monthly Premium Auto',\n",
              "       'Months Since Last Claim', 'Months Since Policy Inception',\n",
              "       'Number of Open Complaints', 'Number of Policies', 'Policy Type',\n",
              "       'Policy', 'Renew Offer Type', 'Sales Channel', 'Total Claim Amount',\n",
              "       'Vehicle Class', 'Vehicle Size'],\n",
              "      dtype='object')"
            ]
          },
          "metadata": {
            "tags": []
          },
          "execution_count": 4
        }
      ]
    },
    {
      "cell_type": "code",
      "metadata": {
        "colab": {
          "base_uri": "https://localhost:8080/"
        },
        "id": "ZFrsQ9EhJS7R",
        "outputId": "3f4c7cd1-4a25-403d-abf4-7af5dcb414d4"
      },
      "source": [
        "data.shape"
      ],
      "execution_count": null,
      "outputs": [
        {
          "output_type": "execute_result",
          "data": {
            "text/plain": [
              "(9134, 24)"
            ]
          },
          "metadata": {
            "tags": []
          },
          "execution_count": 5
        }
      ]
    },
    {
      "cell_type": "code",
      "metadata": {
        "colab": {
          "base_uri": "https://localhost:8080/"
        },
        "id": "Zw-cuRcQJTkD",
        "outputId": "e14d03d4-0a79-4a1c-82a3-ca4300c5f5be"
      },
      "source": [
        "data.dtypes"
      ],
      "execution_count": null,
      "outputs": [
        {
          "output_type": "execute_result",
          "data": {
            "text/plain": [
              "Customer                          object\n",
              "State                             object\n",
              "Customer Lifetime Value          float64\n",
              "Response                          object\n",
              "Coverage                          object\n",
              "Education                         object\n",
              "Effective To Date                 object\n",
              "EmploymentStatus                  object\n",
              "Gender                            object\n",
              "Income                             int64\n",
              "Location Code                     object\n",
              "Marital Status                    object\n",
              "Monthly Premium Auto               int64\n",
              "Months Since Last Claim            int64\n",
              "Months Since Policy Inception      int64\n",
              "Number of Open Complaints          int64\n",
              "Number of Policies                 int64\n",
              "Policy Type                       object\n",
              "Policy                            object\n",
              "Renew Offer Type                  object\n",
              "Sales Channel                     object\n",
              "Total Claim Amount               float64\n",
              "Vehicle Class                     object\n",
              "Vehicle Size                      object\n",
              "dtype: object"
            ]
          },
          "metadata": {
            "tags": []
          },
          "execution_count": 6
        }
      ]
    },
    {
      "cell_type": "code",
      "metadata": {
        "colab": {
          "base_uri": "https://localhost:8080/",
          "height": 331
        },
        "id": "GN8qcqbNJUTH",
        "outputId": "163136c0-b074-4e91-a7b3-13bb9c3c0dd4"
      },
      "source": [
        "data.describe()"
      ],
      "execution_count": null,
      "outputs": [
        {
          "output_type": "execute_result",
          "data": {
            "text/html": [
              "<div>\n",
              "<style scoped>\n",
              "    .dataframe tbody tr th:only-of-type {\n",
              "        vertical-align: middle;\n",
              "    }\n",
              "\n",
              "    .dataframe tbody tr th {\n",
              "        vertical-align: top;\n",
              "    }\n",
              "\n",
              "    .dataframe thead th {\n",
              "        text-align: right;\n",
              "    }\n",
              "</style>\n",
              "<table border=\"1\" class=\"dataframe\">\n",
              "  <thead>\n",
              "    <tr style=\"text-align: right;\">\n",
              "      <th></th>\n",
              "      <th>Customer Lifetime Value</th>\n",
              "      <th>Income</th>\n",
              "      <th>Monthly Premium Auto</th>\n",
              "      <th>Months Since Last Claim</th>\n",
              "      <th>Months Since Policy Inception</th>\n",
              "      <th>Number of Open Complaints</th>\n",
              "      <th>Number of Policies</th>\n",
              "      <th>Total Claim Amount</th>\n",
              "    </tr>\n",
              "  </thead>\n",
              "  <tbody>\n",
              "    <tr>\n",
              "      <th>count</th>\n",
              "      <td>9134.000000</td>\n",
              "      <td>9134.000000</td>\n",
              "      <td>9134.000000</td>\n",
              "      <td>9134.000000</td>\n",
              "      <td>9134.000000</td>\n",
              "      <td>9134.000000</td>\n",
              "      <td>9134.000000</td>\n",
              "      <td>9134.000000</td>\n",
              "    </tr>\n",
              "    <tr>\n",
              "      <th>mean</th>\n",
              "      <td>8004.940475</td>\n",
              "      <td>37657.380009</td>\n",
              "      <td>93.219291</td>\n",
              "      <td>15.097000</td>\n",
              "      <td>48.064594</td>\n",
              "      <td>0.384388</td>\n",
              "      <td>2.966170</td>\n",
              "      <td>434.088794</td>\n",
              "    </tr>\n",
              "    <tr>\n",
              "      <th>std</th>\n",
              "      <td>6870.967608</td>\n",
              "      <td>30379.904734</td>\n",
              "      <td>34.407967</td>\n",
              "      <td>10.073257</td>\n",
              "      <td>27.905991</td>\n",
              "      <td>0.910384</td>\n",
              "      <td>2.390182</td>\n",
              "      <td>290.500092</td>\n",
              "    </tr>\n",
              "    <tr>\n",
              "      <th>min</th>\n",
              "      <td>1898.007675</td>\n",
              "      <td>0.000000</td>\n",
              "      <td>61.000000</td>\n",
              "      <td>0.000000</td>\n",
              "      <td>0.000000</td>\n",
              "      <td>0.000000</td>\n",
              "      <td>1.000000</td>\n",
              "      <td>0.099007</td>\n",
              "    </tr>\n",
              "    <tr>\n",
              "      <th>25%</th>\n",
              "      <td>3994.251794</td>\n",
              "      <td>0.000000</td>\n",
              "      <td>68.000000</td>\n",
              "      <td>6.000000</td>\n",
              "      <td>24.000000</td>\n",
              "      <td>0.000000</td>\n",
              "      <td>1.000000</td>\n",
              "      <td>272.258244</td>\n",
              "    </tr>\n",
              "    <tr>\n",
              "      <th>50%</th>\n",
              "      <td>5780.182197</td>\n",
              "      <td>33889.500000</td>\n",
              "      <td>83.000000</td>\n",
              "      <td>14.000000</td>\n",
              "      <td>48.000000</td>\n",
              "      <td>0.000000</td>\n",
              "      <td>2.000000</td>\n",
              "      <td>383.945434</td>\n",
              "    </tr>\n",
              "    <tr>\n",
              "      <th>75%</th>\n",
              "      <td>8962.167041</td>\n",
              "      <td>62320.000000</td>\n",
              "      <td>109.000000</td>\n",
              "      <td>23.000000</td>\n",
              "      <td>71.000000</td>\n",
              "      <td>0.000000</td>\n",
              "      <td>4.000000</td>\n",
              "      <td>547.514839</td>\n",
              "    </tr>\n",
              "    <tr>\n",
              "      <th>max</th>\n",
              "      <td>83325.381190</td>\n",
              "      <td>99981.000000</td>\n",
              "      <td>298.000000</td>\n",
              "      <td>35.000000</td>\n",
              "      <td>99.000000</td>\n",
              "      <td>5.000000</td>\n",
              "      <td>9.000000</td>\n",
              "      <td>2893.239678</td>\n",
              "    </tr>\n",
              "  </tbody>\n",
              "</table>\n",
              "</div>"
            ],
            "text/plain": [
              "       Customer Lifetime Value  ...  Total Claim Amount\n",
              "count              9134.000000  ...         9134.000000\n",
              "mean               8004.940475  ...          434.088794\n",
              "std                6870.967608  ...          290.500092\n",
              "min                1898.007675  ...            0.099007\n",
              "25%                3994.251794  ...          272.258244\n",
              "50%                5780.182197  ...          383.945434\n",
              "75%                8962.167041  ...          547.514839\n",
              "max               83325.381190  ...         2893.239678\n",
              "\n",
              "[8 rows x 8 columns]"
            ]
          },
          "metadata": {
            "tags": []
          },
          "execution_count": 7
        }
      ]
    },
    {
      "cell_type": "code",
      "metadata": {
        "colab": {
          "base_uri": "https://localhost:8080/"
        },
        "id": "SRDhT4KOJluD",
        "outputId": "6758deeb-fc29-489a-ce92-67096534e6cc"
      },
      "source": [
        "len(data)"
      ],
      "execution_count": null,
      "outputs": [
        {
          "output_type": "execute_result",
          "data": {
            "text/plain": [
              "9134"
            ]
          },
          "metadata": {
            "tags": []
          },
          "execution_count": 8
        }
      ]
    },
    {
      "cell_type": "code",
      "metadata": {
        "colab": {
          "base_uri": "https://localhost:8080/"
        },
        "id": "iEJqWxCSJnqG",
        "outputId": "1e128eee-bdaf-40ee-dbaf-678317978888"
      },
      "source": [
        "data.isnull().sum()"
      ],
      "execution_count": null,
      "outputs": [
        {
          "output_type": "execute_result",
          "data": {
            "text/plain": [
              "Customer                         0\n",
              "State                            0\n",
              "Customer Lifetime Value          0\n",
              "Response                         0\n",
              "Coverage                         0\n",
              "Education                        0\n",
              "Effective To Date                0\n",
              "EmploymentStatus                 0\n",
              "Gender                           0\n",
              "Income                           0\n",
              "Location Code                    0\n",
              "Marital Status                   0\n",
              "Monthly Premium Auto             0\n",
              "Months Since Last Claim          0\n",
              "Months Since Policy Inception    0\n",
              "Number of Open Complaints        0\n",
              "Number of Policies               0\n",
              "Policy Type                      0\n",
              "Policy                           0\n",
              "Renew Offer Type                 0\n",
              "Sales Channel                    0\n",
              "Total Claim Amount               0\n",
              "Vehicle Class                    0\n",
              "Vehicle Size                     0\n",
              "dtype: int64"
            ]
          },
          "metadata": {
            "tags": []
          },
          "execution_count": 9
        }
      ]
    },
    {
      "cell_type": "code",
      "metadata": {
        "id": "-1eMe0DNJ3yr"
      },
      "source": [
        "import warnings\n",
        "warnings.filterwarnings('ignore')"
      ],
      "execution_count": null,
      "outputs": []
    },
    {
      "cell_type": "code",
      "metadata": {
        "colab": {
          "base_uri": "https://localhost:8080/",
          "height": 430
        },
        "id": "xK1L4x0oJ9kq",
        "outputId": "3c3ff1ef-4613-4386-e461-d730d061c765"
      },
      "source": [
        "ax = data['Response'].value_counts().plot(kind='bar', figsize=(10, 6), fontsize=13, color=\"#087E8B\")\n",
        "ax.set_title('Acepta oferta (Yes = acepta oferta, No = No acepta oferta)', size=20, pad=30)\n",
        "ax.set_ylabel('Number of transactions', fontsize=14)\n",
        "\n",
        "for i in ax.patches:\n",
        "  ax.text(i.get_x() + 0.19, i.get_height() +700, str(round(i.get_height(), 2)), fontsize=15)"
      ],
      "execution_count": null,
      "outputs": [
        {
          "output_type": "display_data",
          "data": {
            "image/png": "[encoded data removed]",
            "text/plain": [
              "<Figure size 720x432 with 1 Axes>"
            ]
          },
          "metadata": {
            "tags": [],
            "needs_background": "light"
          }
        }
      ]
    },
    {
      "cell_type": "code",
      "metadata": {
        "colab": {
          "base_uri": "https://localhost:8080/",
          "height": 396
        },
        "id": "F3uhYCwvKGW_",
        "outputId": "ddfd2772-2c4c-4568-ce86-825e5ee6ba5d"
      },
      "source": [
        "f, ax = plt.subplots(1, 1, figsize=(15,6))\n",
        "sns.countplot(\"Response\", hue=\"State\", data = data)"
      ],
      "execution_count": null,
      "outputs": [
        {
          "output_type": "execute_result",
          "data": {
            "text/plain": [
              "<matplotlib.axes._subplots.AxesSubplot at 0x7f7612092f10>"
            ]
          },
          "metadata": {
            "tags": []
          },
          "execution_count": 18
        },
        {
          "output_type": "display_data",
          "data": {
            "image/png": "[encoded data removed]",
            "text/plain": [
              "<Figure size 1080x432 with 1 Axes>"
            ]
          },
          "metadata": {
            "tags": [],
            "needs_background": "light"
          }
        }
      ]
    },
    {
      "cell_type": "code",
      "metadata": {
        "colab": {
          "base_uri": "https://localhost:8080/",
          "height": 405
        },
        "id": "dH-xOO9BLbAE",
        "outputId": "0f32e6dc-9b03-4afd-9420-bc32f19bcc12"
      },
      "source": [
        "f, ax = plt.subplots(1, 1, figsize=(8, 6))\n",
        "sns.countplot(\"Response\", hue=\"Gender\", data=data)"
      ],
      "execution_count": null,
      "outputs": [
        {
          "output_type": "execute_result",
          "data": {
            "text/plain": [
              "<matplotlib.axes._subplots.AxesSubplot at 0x7f7611f7e9d0>"
            ]
          },
          "metadata": {
            "tags": []
          },
          "execution_count": 19
        },
        {
          "output_type": "display_data",
          "data": {
            "image/png": "[encoded data removed]",
            "text/plain": [
              "<Figure size 576x432 with 1 Axes>"
            ]
          },
          "metadata": {
            "tags": [],
            "needs_background": "light"
          }
        }
      ]
    },
    {
      "cell_type": "code",
      "metadata": {
        "id": "hw_ZUgwCLmKm"
      },
      "source": [
        "data = data.drop(columns={\"Customer\", \"Policy\",\"Effective To Date\"})"
      ],
      "execution_count": null,
      "outputs": []
    },
    {
      "cell_type": "code",
      "metadata": {
        "colab": {
          "base_uri": "https://localhost:8080/"
        },
        "id": "j4h_6Z3QNRgI",
        "outputId": "e6ed7ebd-a6bf-423f-c616-db2fd8f5e882"
      },
      "source": [
        "#Creamos una lista de variables categoricas\n",
        "\n",
        "data_categorical = data.select_dtypes(include=['object'])\n",
        "categories = list(data_categorical.columns)\n",
        "categories"
      ],
      "execution_count": null,
      "outputs": [
        {
          "output_type": "execute_result",
          "data": {
            "text/plain": [
              "['State',\n",
              " 'Response',\n",
              " 'Coverage',\n",
              " 'Education',\n",
              " 'EmploymentStatus',\n",
              " 'Gender',\n",
              " 'Location Code',\n",
              " 'Marital Status',\n",
              " 'Policy Type',\n",
              " 'Renew Offer Type',\n",
              " 'Sales Channel',\n",
              " 'Vehicle Class',\n",
              " 'Vehicle Size']"
            ]
          },
          "metadata": {
            "tags": []
          },
          "execution_count": 21
        }
      ]
    },
    {
      "cell_type": "code",
      "metadata": {
        "id": "Ii_gn_A-Nc_I"
      },
      "source": [
        "## Convertimos las variables categoricas en numericas empleando LabelEncoder\n",
        "lb = LabelEncoder()\n",
        "\n",
        "for i in categories:\n",
        "  data[i] = lb.fit_transform(data[i])"
      ],
      "execution_count": null,
      "outputs": []
    },
    {
      "cell_type": "code",
      "metadata": {
        "colab": {
          "base_uri": "https://localhost:8080/",
          "height": 275
        },
        "id": "nzp4q171Nnm5",
        "outputId": "94baebbb-5129-4d38-ac9c-6d0361a2c590"
      },
      "source": [
        "data.head()"
      ],
      "execution_count": null,
      "outputs": [
        {
          "output_type": "execute_result",
          "data": {
            "text/html": [
              "<div>\n",
              "<style scoped>\n",
              "    .dataframe tbody tr th:only-of-type {\n",
              "        vertical-align: middle;\n",
              "    }\n",
              "\n",
              "    .dataframe tbody tr th {\n",
              "        vertical-align: top;\n",
              "    }\n",
              "\n",
              "    .dataframe thead th {\n",
              "        text-align: right;\n",
              "    }\n",
              "</style>\n",
              "<table border=\"1\" class=\"dataframe\">\n",
              "  <thead>\n",
              "    <tr style=\"text-align: right;\">\n",
              "      <th></th>\n",
              "      <th>State</th>\n",
              "      <th>Customer Lifetime Value</th>\n",
              "      <th>Response</th>\n",
              "      <th>Coverage</th>\n",
              "      <th>Education</th>\n",
              "      <th>EmploymentStatus</th>\n",
              "      <th>Gender</th>\n",
              "      <th>Income</th>\n",
              "      <th>Location Code</th>\n",
              "      <th>Marital Status</th>\n",
              "      <th>Monthly Premium Auto</th>\n",
              "      <th>Months Since Last Claim</th>\n",
              "      <th>Months Since Policy Inception</th>\n",
              "      <th>Number of Open Complaints</th>\n",
              "      <th>Number of Policies</th>\n",
              "      <th>Policy Type</th>\n",
              "      <th>Renew Offer Type</th>\n",
              "      <th>Sales Channel</th>\n",
              "      <th>Total Claim Amount</th>\n",
              "      <th>Vehicle Class</th>\n",
              "      <th>Vehicle Size</th>\n",
              "    </tr>\n",
              "  </thead>\n",
              "  <tbody>\n",
              "    <tr>\n",
              "      <th>0</th>\n",
              "      <td>4</td>\n",
              "      <td>2763.519279</td>\n",
              "      <td>0</td>\n",
              "      <td>0</td>\n",
              "      <td>0</td>\n",
              "      <td>1</td>\n",
              "      <td>0</td>\n",
              "      <td>56274</td>\n",
              "      <td>1</td>\n",
              "      <td>1</td>\n",
              "      <td>69</td>\n",
              "      <td>32</td>\n",
              "      <td>5</td>\n",
              "      <td>0</td>\n",
              "      <td>1</td>\n",
              "      <td>0</td>\n",
              "      <td>0</td>\n",
              "      <td>0</td>\n",
              "      <td>384.811147</td>\n",
              "      <td>5</td>\n",
              "      <td>1</td>\n",
              "    </tr>\n",
              "    <tr>\n",
              "      <th>1</th>\n",
              "      <td>0</td>\n",
              "      <td>6979.535903</td>\n",
              "      <td>0</td>\n",
              "      <td>1</td>\n",
              "      <td>0</td>\n",
              "      <td>4</td>\n",
              "      <td>0</td>\n",
              "      <td>0</td>\n",
              "      <td>1</td>\n",
              "      <td>2</td>\n",
              "      <td>94</td>\n",
              "      <td>13</td>\n",
              "      <td>42</td>\n",
              "      <td>0</td>\n",
              "      <td>8</td>\n",
              "      <td>1</td>\n",
              "      <td>2</td>\n",
              "      <td>0</td>\n",
              "      <td>1131.464935</td>\n",
              "      <td>0</td>\n",
              "      <td>1</td>\n",
              "    </tr>\n",
              "    <tr>\n",
              "      <th>2</th>\n",
              "      <td>2</td>\n",
              "      <td>12887.431650</td>\n",
              "      <td>0</td>\n",
              "      <td>2</td>\n",
              "      <td>0</td>\n",
              "      <td>1</td>\n",
              "      <td>0</td>\n",
              "      <td>48767</td>\n",
              "      <td>1</td>\n",
              "      <td>1</td>\n",
              "      <td>108</td>\n",
              "      <td>18</td>\n",
              "      <td>38</td>\n",
              "      <td>0</td>\n",
              "      <td>2</td>\n",
              "      <td>1</td>\n",
              "      <td>0</td>\n",
              "      <td>0</td>\n",
              "      <td>566.472247</td>\n",
              "      <td>5</td>\n",
              "      <td>1</td>\n",
              "    </tr>\n",
              "    <tr>\n",
              "      <th>3</th>\n",
              "      <td>1</td>\n",
              "      <td>7645.861827</td>\n",
              "      <td>0</td>\n",
              "      <td>0</td>\n",
              "      <td>0</td>\n",
              "      <td>4</td>\n",
              "      <td>1</td>\n",
              "      <td>0</td>\n",
              "      <td>1</td>\n",
              "      <td>1</td>\n",
              "      <td>106</td>\n",
              "      <td>18</td>\n",
              "      <td>65</td>\n",
              "      <td>0</td>\n",
              "      <td>7</td>\n",
              "      <td>0</td>\n",
              "      <td>0</td>\n",
              "      <td>2</td>\n",
              "      <td>529.881344</td>\n",
              "      <td>3</td>\n",
              "      <td>1</td>\n",
              "    </tr>\n",
              "    <tr>\n",
              "      <th>4</th>\n",
              "      <td>4</td>\n",
              "      <td>2813.692575</td>\n",
              "      <td>0</td>\n",
              "      <td>0</td>\n",
              "      <td>0</td>\n",
              "      <td>1</td>\n",
              "      <td>1</td>\n",
              "      <td>43836</td>\n",
              "      <td>0</td>\n",
              "      <td>2</td>\n",
              "      <td>73</td>\n",
              "      <td>12</td>\n",
              "      <td>44</td>\n",
              "      <td>0</td>\n",
              "      <td>1</td>\n",
              "      <td>1</td>\n",
              "      <td>0</td>\n",
              "      <td>0</td>\n",
              "      <td>138.130879</td>\n",
              "      <td>0</td>\n",
              "      <td>1</td>\n",
              "    </tr>\n",
              "  </tbody>\n",
              "</table>\n",
              "</div>"
            ],
            "text/plain": [
              "   State  Customer Lifetime Value  ...  Vehicle Class  Vehicle Size\n",
              "0      4              2763.519279  ...              5             1\n",
              "1      0              6979.535903  ...              0             1\n",
              "2      2             12887.431650  ...              5             1\n",
              "3      1              7645.861827  ...              3             1\n",
              "4      4              2813.692575  ...              0             1\n",
              "\n",
              "[5 rows x 21 columns]"
            ]
          },
          "metadata": {
            "tags": []
          },
          "execution_count": 25
        }
      ]
    },
    {
      "cell_type": "code",
      "metadata": {
        "colab": {
          "base_uri": "https://localhost:8080/",
          "height": 551
        },
        "id": "DpzEGvQlNuKA",
        "outputId": "ed2ed63b-9ac3-43e3-9584-3dcd9177385f"
      },
      "source": [
        "f, ax = plt.subplots(1, 1, figsize=(20, 10))\n",
        "cmap = sns.diverging_palette(10, 240, n=9)\n",
        "ax = sns.heatmap(data.corr(), annot=True, cmap=cmap)"
      ],
      "execution_count": null,
      "outputs": [
        {
          "output_type": "display_data",
          "data": {
            "image/png": "[encoded data removed]",
            "text/plain": [
              "<Figure size 1440x720 with 2 Axes>"
            ]
          },
          "metadata": {
            "tags": [],
            "needs_background": "light"
          }
        }
      ]
    },
    {
      "cell_type": "code",
      "metadata": {
        "id": "EPo9FomCN9Kh"
      },
      "source": [
        "##Supervised Machine Learning para datos no balanceados"
      ],
      "execution_count": null,
      "outputs": []
    },
    {
      "cell_type": "code",
      "metadata": {
        "id": "ZXnykfCiOS66"
      },
      "source": [
        "y = data[\"Response\"]\n",
        "X = data.drop([\"Response\"], axis=1)"
      ],
      "execution_count": null,
      "outputs": []
    },
    {
      "cell_type": "code",
      "metadata": {
        "id": "MgYqgYVbOXqN"
      },
      "source": [
        "X_train, X_test, y_train,  y_test = train_test_split(X, y, test_size = 0.2, random_state=29)"
      ],
      "execution_count": null,
      "outputs": []
    },
    {
      "cell_type": "code",
      "metadata": {
        "colab": {
          "base_uri": "https://localhost:8080/"
        },
        "id": "yx_G-e2pOdgG",
        "outputId": "09709ce8-f6fa-414f-9821-c5eb36e1746f"
      },
      "source": [
        "lr = LogisticRegression()\n",
        "\n",
        "model_logistica=lr.fit(X_train,y_train)\n",
        "\n",
        "y_pred = model_logistica.predict(X_test)\n",
        "\n",
        "acc = lr.score(X_test,y_test)*100\n",
        "\n",
        "print(\"Logistic Regression Test Accuracy\", round(acc, 2), \"%\")"
      ],
      "execution_count": null,
      "outputs": [
        {
          "output_type": "stream",
          "text": [
            "Logistic Regression Test Accuracy 84.95 %\n"
          ],
          "name": "stdout"
        }
      ]
    },
    {
      "cell_type": "code",
      "metadata": {
        "id": "K3Vw6jj0PCPl"
      },
      "source": [
        "from sklearn.metrics import classification_report, accuracy_score"
      ],
      "execution_count": null,
      "outputs": []
    },
    {
      "cell_type": "code",
      "metadata": {
        "colab": {
          "base_uri": "https://localhost:8080/"
        },
        "id": "4anDD249OwKT",
        "outputId": "ec24df23-1d61-45b5-e5df-023bb98d30c5"
      },
      "source": [
        "print(confusion_matrix(y_test, y_pred))\n",
        "print(classification_report(y_test,y_pred))\n",
        "print(accuracy_score(y_test, y_pred))"
      ],
      "execution_count": null,
      "outputs": [
        {
          "output_type": "stream",
          "text": [
            "[[1552    0]\n",
            " [ 275    0]]\n",
            "              precision    recall  f1-score   support\n",
            "\n",
            "           0       0.85      1.00      0.92      1552\n",
            "           1       0.00      0.00      0.00       275\n",
            "\n",
            "    accuracy                           0.85      1827\n",
            "   macro avg       0.42      0.50      0.46      1827\n",
            "weighted avg       0.72      0.85      0.78      1827\n",
            "\n",
            "0.849480021893815\n"
          ],
          "name": "stdout"
        }
      ]
    },
    {
      "cell_type": "code",
      "metadata": {
        "colab": {
          "base_uri": "https://localhost:8080/"
        },
        "id": "8WWfVY4FO_QB",
        "outputId": "77bd3d03-687d-4d5c-82d8-f1341f8bd550"
      },
      "source": [
        "from sklearn.neighbors import KNeighborsClassifier\n",
        "knn = KNeighborsClassifier(n_neighbors = 2)\n",
        "knn.fit(X_train, y_train)\n",
        "\n",
        "y_pred_knn = knn.predict(X_test)\n",
        "\n",
        "acc = knn.score(X_test, y_test)*100\n",
        "print(\"2 neighbors KNN Score: \", round(acc,2), \"%\")"
      ],
      "execution_count": null,
      "outputs": [
        {
          "output_type": "stream",
          "text": [
            "2 neighbors KNN Score:  96.93 %\n"
          ],
          "name": "stdout"
        }
      ]
    },
    {
      "cell_type": "code",
      "metadata": {
        "colab": {
          "base_uri": "https://localhost:8080/"
        },
        "id": "T9AHm4JBPfxW",
        "outputId": "7db61756-4286-4071-a299-9a1791d0c161"
      },
      "source": [
        "print(confusion_matrix(y_test, y_pred_knn))\n",
        "print(classification_report(y_test,y_pred_knn))\n",
        "print(accuracy_score(y_test, y_pred_knn))"
      ],
      "execution_count": null,
      "outputs": [
        {
          "output_type": "stream",
          "text": [
            "[[1501   51]\n",
            " [   5  270]]\n",
            "              precision    recall  f1-score   support\n",
            "\n",
            "           0       1.00      0.97      0.98      1552\n",
            "           1       0.84      0.98      0.91       275\n",
            "\n",
            "    accuracy                           0.97      1827\n",
            "   macro avg       0.92      0.97      0.94      1827\n",
            "weighted avg       0.97      0.97      0.97      1827\n",
            "\n",
            "0.9693486590038314\n"
          ],
          "name": "stdout"
        }
      ]
    },
    {
      "cell_type": "code",
      "metadata": {
        "colab": {
          "base_uri": "https://localhost:8080/"
        },
        "id": "a5KMXemePmZ2",
        "outputId": "7b112557-57f1-422e-ad16-f04128978d91"
      },
      "source": [
        "from sklearn.svm import SVC\n",
        "svm = SVC()\n",
        "svm.fit(X_train, y_train)\n",
        "\n",
        "y_pred_svc=svm.predict(X_test)\n",
        "acc = svm.score(X_test,y_test)*100\n",
        "print(\"SVM Algorithm Test Accuracy\", round(acc, 2), \"%\")"
      ],
      "execution_count": null,
      "outputs": [
        {
          "output_type": "stream",
          "text": [
            "SVM Algorithm Test Accuracy 84.95 %\n"
          ],
          "name": "stdout"
        }
      ]
    },
    {
      "cell_type": "code",
      "metadata": {
        "colab": {
          "base_uri": "https://localhost:8080/"
        },
        "id": "vK3cej1AP9wW",
        "outputId": "20782745-08d4-479c-ef57-fe9560fc5e0e"
      },
      "source": [
        "from sklearn.metrics import classification_report, confusion_matrix, accuracy_score\n",
        "print(confusion_matrix(y_test, y_pred_svc))\n",
        "print(classification_report(y_test,y_pred_svc))\n",
        "print(accuracy_score(y_test, y_pred_svc))"
      ],
      "execution_count": null,
      "outputs": [
        {
          "output_type": "stream",
          "text": [
            "[[1552    0]\n",
            " [ 275    0]]\n",
            "              precision    recall  f1-score   support\n",
            "\n",
            "           0       0.85      1.00      0.92      1552\n",
            "           1       0.00      0.00      0.00       275\n",
            "\n",
            "    accuracy                           0.85      1827\n",
            "   macro avg       0.42      0.50      0.46      1827\n",
            "weighted avg       0.72      0.85      0.78      1827\n",
            "\n",
            "0.849480021893815\n"
          ],
          "name": "stdout"
        }
      ]
    },
    {
      "cell_type": "code",
      "metadata": {
        "colab": {
          "base_uri": "https://localhost:8080/"
        },
        "id": "vrBt7IJKQIrC",
        "outputId": "03379625-4039-4207-c935-55d87ee3fbcd"
      },
      "source": [
        "from sklearn.tree import DecisionTreeClassifier\n",
        "dtc = DecisionTreeClassifier()\n",
        "dtc.fit(X_train, y_train)\n",
        "\n",
        "y_pred_dtc = dtc.predict(X_test)\n",
        "\n",
        "acc = dtc.score(X_test, y_test)*100\n",
        "print(\"Decision Tree Test Accuracy\", round(acc, 2), \"%\")"
      ],
      "execution_count": null,
      "outputs": [
        {
          "output_type": "stream",
          "text": [
            "Decision Tree Test Accuracy 96.33 %\n"
          ],
          "name": "stdout"
        }
      ]
    },
    {
      "cell_type": "code",
      "metadata": {
        "colab": {
          "base_uri": "https://localhost:8080/"
        },
        "id": "Pn_nFFTzQenq",
        "outputId": "458586f9-5b52-454e-9b14-1a518b23c2a7"
      },
      "source": [
        "print(confusion_matrix(y_test, y_pred_dtc))\n",
        "print(classification_report(y_test,y_pred_dtc))\n",
        "print(accuracy_score(y_test, y_pred_dtc))"
      ],
      "execution_count": null,
      "outputs": [
        {
          "output_type": "stream",
          "text": [
            "[[1490   62]\n",
            " [   5  270]]\n",
            "              precision    recall  f1-score   support\n",
            "\n",
            "           0       1.00      0.96      0.98      1552\n",
            "           1       0.81      0.98      0.89       275\n",
            "\n",
            "    accuracy                           0.96      1827\n",
            "   macro avg       0.90      0.97      0.93      1827\n",
            "weighted avg       0.97      0.96      0.96      1827\n",
            "\n",
            "0.963327859879584\n"
          ],
          "name": "stdout"
        }
      ]
    },
    {
      "cell_type": "code",
      "metadata": {
        "id": "wPMhg1G8QmOd"
      },
      "source": [
        "##Supervised Machine Learning para datos balanceados"
      ],
      "execution_count": null,
      "outputs": []
    },
    {
      "cell_type": "code",
      "metadata": {
        "colab": {
          "base_uri": "https://localhost:8080/"
        },
        "id": "-e5EoP8gRF_X",
        "outputId": "c1c5dd64-1f94-4a1b-a83b-e9affdfa1d10"
      },
      "source": [
        "X_down = pd.concat([X_train, y_train], axis=1)\n",
        "\n",
        "no_effect = X_down[X_down.Response==0]\n",
        "effect = X_down[X_down.Response==1]\n",
        "\n",
        "no_effect_downsampled = resample(no_effect,\n",
        "                                 replace = False,\n",
        "                                 n_samples = len(effect),\n",
        "                                 random_state = 27)\n",
        "\n",
        "downsampled = pd.concat([no_effect_downsampled, effect])\n",
        "\n",
        "downsampled.Response.value_counts()"
      ],
      "execution_count": null,
      "outputs": [
        {
          "output_type": "execute_result",
          "data": {
            "text/plain": [
              "1    1033\n",
              "0    1033\n",
              "Name: Response, dtype: int64"
            ]
          },
          "metadata": {
            "tags": []
          },
          "execution_count": 42
        }
      ]
    },
    {
      "cell_type": "code",
      "metadata": {
        "colab": {
          "base_uri": "https://localhost:8080/",
          "height": 296
        },
        "id": "Mr9h2sDjRc9g",
        "outputId": "1150e74c-f3b7-4f4d-98b3-707d68f94810"
      },
      "source": [
        "sns.countplot(downsampled['Response'])"
      ],
      "execution_count": null,
      "outputs": [
        {
          "output_type": "execute_result",
          "data": {
            "text/plain": [
              "<matplotlib.axes._subplots.AxesSubplot at 0x7f7607a59690>"
            ]
          },
          "metadata": {
            "tags": []
          },
          "execution_count": 43
        },
        {
          "output_type": "display_data",
          "data": {
            "image/png": "[encoded data removed]",
            "text/plain": [
              "<Figure size 432x288 with 1 Axes>"
            ]
          },
          "metadata": {
            "tags": [],
            "needs_background": "light"
          }
        }
      ]
    },
    {
      "cell_type": "code",
      "metadata": {
        "colab": {
          "base_uri": "https://localhost:8080/"
        },
        "id": "UwSww351Rnml",
        "outputId": "cf2930fb-4831-4622-8515-87ef5277219a"
      },
      "source": [
        "downsampled.shape"
      ],
      "execution_count": null,
      "outputs": [
        {
          "output_type": "execute_result",
          "data": {
            "text/plain": [
              "(2066, 21)"
            ]
          },
          "metadata": {
            "tags": []
          },
          "execution_count": 44
        }
      ]
    },
    {
      "cell_type": "code",
      "metadata": {
        "id": "hAm4IWdaRopD"
      },
      "source": [
        "y_train_down = downsampled.Response\n",
        "X_train_down = downsampled.drop(['Response'], axis=1)"
      ],
      "execution_count": null,
      "outputs": []
    },
    {
      "cell_type": "code",
      "metadata": {
        "colab": {
          "base_uri": "https://localhost:8080/"
        },
        "id": "98f0ggbPR0kL",
        "outputId": "b62fa9e2-8033-47c5-b425-db6a557b4f26"
      },
      "source": [
        "lr = LogisticRegression()\n",
        "\n",
        "lr.fit(X_train_down,y_train_down)\n",
        "\n",
        "y_pred1 = lr.predict(X_test)\n",
        "\n",
        "acc = lr.score(X_test,y_test)*100\n",
        "\n",
        "print(\"Logistic Regression Test Accuracy\", round(acc, 2), \"%\")"
      ],
      "execution_count": null,
      "outputs": [
        {
          "output_type": "stream",
          "text": [
            "Logistic Regression Test Accuracy 51.18 %\n"
          ],
          "name": "stdout"
        }
      ]
    },
    {
      "cell_type": "code",
      "metadata": {
        "colab": {
          "base_uri": "https://localhost:8080/"
        },
        "id": "vrLNT2CpSDIL",
        "outputId": "ff980d87-1185-4257-fd04-80ceb411ba90"
      },
      "source": [
        "from sklearn.neighbors import KNeighborsClassifier\n",
        "n_neighbors=1\n",
        "\n",
        "knn = KNeighborsClassifier(n_neighbors = n_neighbors)\n",
        "knn.fit(X_train_down, y_train_down)\n",
        "\n",
        "y_pred2 = knn.predict(X_test)\n",
        "\n",
        "acc = knn.score(X_test, y_test)*100\n",
        "\n",
        "print(\"Prediction: \",y_pred2[:5])\n",
        "print(n_neighbors, \"neighbors KNN Score: \", round(acc,2), \"%\")"
      ],
      "execution_count": null,
      "outputs": [
        {
          "output_type": "stream",
          "text": [
            "Prediction:  [0 0 0 0 0]\n",
            "1 neighbors KNN Score:  85.06 %\n"
          ],
          "name": "stdout"
        }
      ]
    },
    {
      "cell_type": "code",
      "metadata": {
        "colab": {
          "base_uri": "https://localhost:8080/"
        },
        "id": "o6CPjbtySwAX",
        "outputId": "9244ded4-3ce9-41bc-815a-c4d10e7d2f7d"
      },
      "source": [
        "from sklearn.tree import DecisionTreeClassifier\n",
        "dtc = DecisionTreeClassifier()\n",
        "dtc.fit(X_train_down, y_train_down)\n",
        "\n",
        "y_pred_dtc3 = dtc.predict(X_test)\n",
        "\n",
        "\n",
        "\n",
        "\n",
        "acc = dtc.score(X_test, y_test)*100\n",
        "print(\"Decision Tree Test Accuracy\", round(acc, 2), \"%\")"
      ],
      "execution_count": null,
      "outputs": [
        {
          "output_type": "stream",
          "text": [
            "Decision Tree Test Accuracy 86.75 %\n"
          ],
          "name": "stdout"
        }
      ]
    },
    {
      "cell_type": "code",
      "metadata": {
        "id": "d7ToGwyUTSus"
      },
      "source": [
        ""
      ],
      "execution_count": null,
      "outputs": []
    }
  ]
}